{
  "nbformat": 4,
  "nbformat_minor": 0,
  "metadata": {
    "colab": {
      "name": "slr.ipynb",
      "provenance": [],
      "toc_visible": true
    },
    "kernelspec": {
      "name": "python3",
      "display_name": "Python 3"
    }
  },
  "cells": [
    {
      "cell_type": "markdown",
      "metadata": {
        "id": "FoYzoFd1xfb3",
        "colab_type": "text"
      },
      "source": [
        "## Preprocessing"
      ]
    },
    {
      "cell_type": "markdown",
      "metadata": {
        "id": "9BLEEhZDyBTM",
        "colab_type": "text"
      },
      "source": [
        "### Importing the Libraries"
      ]
    },
    {
      "cell_type": "code",
      "metadata": {
        "id": "N2hDTvJZxRfS",
        "colab_type": "code",
        "colab": {}
      },
      "source": [
        "import numpy as np\n",
        "import matplotlib.pyplot as plt\n",
        "import pandas as pd"
      ],
      "execution_count": 1,
      "outputs": []
    },
    {
      "cell_type": "markdown",
      "metadata": {
        "id": "ruAro_SZyVll",
        "colab_type": "text"
      },
      "source": [
        "### Importing the Dataset"
      ]
    },
    {
      "cell_type": "code",
      "metadata": {
        "id": "-MXSb4jKyYb9",
        "colab_type": "code",
        "colab": {}
      },
      "source": [
        "dataset = pd.read_csv('Salary_Data.csv')\n",
        "x= dataset.iloc[:,:-1].values\n",
        "y= dataset.iloc[:,-1].values"
      ],
      "execution_count": 2,
      "outputs": []
    },
    {
      "cell_type": "markdown",
      "metadata": {
        "id": "XxVhHsXfzXMX",
        "colab_type": "text"
      },
      "source": [
        "### Taking Care of Missing Data"
      ]
    },
    {
      "cell_type": "code",
      "metadata": {
        "id": "nnyCxpB7yj8j",
        "colab_type": "code",
        "colab": {}
      },
      "source": [
        "from sklearn.impute import SimpleImputer\n",
        "imputer = SimpleImputer(missing_values=np.nan,strategy='mean')"
      ],
      "execution_count": 3,
      "outputs": []
    },
    {
      "cell_type": "code",
      "metadata": {
        "id": "uvVOg6CG019O",
        "colab_type": "code",
        "colab": {}
      },
      "source": [
        "imputer.fit(x[:,:])\n",
        "x[:,:]= imputer.transform(x[:,:])"
      ],
      "execution_count": 4,
      "outputs": []
    },
    {
      "cell_type": "markdown",
      "metadata": {
        "id": "anE9na2K4o1X",
        "colab_type": "text"
      },
      "source": [
        "### Encoding Categorical Data \n",
        "\n",
        "_Not needed Here_"
      ]
    },
    {
      "cell_type": "markdown",
      "metadata": {
        "id": "K1yD_JZy4zHk",
        "colab_type": "text"
      },
      "source": [
        "### Splitting the dataset into training set and testing set"
      ]
    },
    {
      "cell_type": "code",
      "metadata": {
        "id": "wPWtrw674r_8",
        "colab_type": "code",
        "colab": {}
      },
      "source": [
        "from sklearn.model_selection import train_test_split\n",
        "x_train, x_test, y_train, y_test = train_test_split(x,y,test_size=0.2,random_state=0)"
      ],
      "execution_count": 5,
      "outputs": []
    },
    {
      "cell_type": "markdown",
      "metadata": {
        "id": "cRxo4zWmUXQl",
        "colab_type": "text"
      },
      "source": [
        "## Simple Linear Regression"
      ]
    },
    {
      "cell_type": "markdown",
      "metadata": {
        "id": "Q6VR9bVPU9T9",
        "colab_type": "text"
      },
      "source": [
        "### Training the Simple Linear Regression model on the Training Set"
      ]
    },
    {
      "cell_type": "code",
      "metadata": {
        "id": "oJBWMurQVqhV",
        "colab_type": "code",
        "colab": {
          "base_uri": "https://localhost:8080/",
          "height": 34
        },
        "outputId": "6a4046b4-ac33-41ad-8fb1-8c706893199a"
      },
      "source": [
        "from sklearn.linear_model import LinearRegression\n",
        "regressor = LinearRegression()\n",
        "regressor.fit(x_train,y_train)"
      ],
      "execution_count": 6,
      "outputs": [
        {
          "output_type": "execute_result",
          "data": {
            "text/plain": [
              "LinearRegression(copy_X=True, fit_intercept=True, n_jobs=None, normalize=False)"
            ]
          },
          "metadata": {
            "tags": []
          },
          "execution_count": 6
        }
      ]
    },
    {
      "cell_type": "markdown",
      "metadata": {
        "id": "Nf-NMjZ00xU6",
        "colab_type": "text"
      },
      "source": [
        "### Predicting the test set results"
      ]
    },
    {
      "cell_type": "code",
      "metadata": {
        "id": "-oZxxHyO01p0",
        "colab_type": "code",
        "colab": {}
      },
      "source": [
        "y_pred = regressor.predict(x_test)"
      ],
      "execution_count": 7,
      "outputs": []
    }
  ]
}